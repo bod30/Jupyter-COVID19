#Pull API data to get daily COVID19 numbers
import numpy as np
import pandas as pd
import requests
import json

url = "https://api.apify.com/v2/key-value-stores/KWLojgM5r1JmMW4b4/records/LATEST?disableRedirect=true/"
JSONContent = requests.get(url).json()
content = json.dumps(JSONContent, indent = 4, sort_keys=True)

#UK Cases
print("UK Total Cases:",JSONContent['infected'])
print("UK Daily Confirmed:",JSONContent['dailyConfirmed'])
print("UK deceased:",JSONContent['deceased'])

#England
print("\nEngland Cases Confirmed:",JSONContent['englandConfirmed'])
print("England Deceased:",JSONContent['englandDeceased'])

#Scotland
print("\nScotland Cases Confirmed:",JSONContent['scotlandConfirmed'])
print("Scotland Deceased:",JSONContent['scotlandDeceased'])

#Wales
print("\nWales Cases Confirmed:",JSONContent['walesConfirmed'])
print("Wales Deceased:",JSONContent['walesDeceased'])

#NI
print("\nNorthen Ireland Cases Confirmed:",JSONContent['northenIrelandConfirmed'])
print("Northen Ireland Deceased:",JSONContent['northenIrelandDeceased'])


#Import excel file and show as a Dataframe
import pandas as pd
import numpy as np
import matplotlib.pyplot as plt
%matplotlib inline

df = pd.read_csv('./monthly_milk_production.csv', sep=',', parse_dates=['Date'], index_col='Date')

df = pd.read_excel('/home/oddbod30/Files/COVID19.xlsx', sheet_name='UK Cases')

print((df).to_markdown())

#Convert floats to ints
print("Original DataFrame:")
print("-------------------")
print(df)

print("\n\nData types of the columns of the said DataFrame:")
print(df.dtypes)

print("\n\nNow change 'Cumulative Cases' and '7 Day Average' column from float to int:")
print("---------------------------------------------------------------------")
df["7 Day Average"]= df["7 Day Average"].fillna(0.0).astype(int) 
df["Cumulative Cases"]= df["Cumulative Cases"].fillna(0.0).astype(int) 

print(df)
print("\nData types of the columns of the DataFrame now:")
print(df.dtypes)

#Append daily confirmed to the Dataframe
import numpy as np
import pandas as pd
import datetime


df = pd.read_excel('/home/oddbod30/Files/COVID19.xlsx', sheet_name='UK Cases')

print('Original DataFrame\n------------------')
print(df)

Today = datetime.date.today()
Daily_Cases = JSONContent['dailyConfirmed']*10
Cumulative_Cases = JSONContent['infected']*10
Severn_Day_Average = (1)

new_row = [pd.Series([Today, Daily_Cases, Cumulative_Cases, Severn_Day_Average], index=df.columns)]

#append row to the dataframe
new_df = df.append(new_row, ignore_index=True)


print('\n\nNew row added to DataFrame\n--------------------------')
print(new_df)
